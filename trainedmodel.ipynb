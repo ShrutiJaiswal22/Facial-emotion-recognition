{
 "cells": [
  {
   "cell_type": "code",
   "execution_count": 53,
   "id": "b2418ef9",
   "metadata": {},
   "outputs": [],
   "source": [
    "from keras.utils import to_categorical\n",
    "from keras.preprocessing.image import load_img\n",
    "from keras.models import Sequential \n",
    "from keras.layers import Dense, Conv2D, Dropout, Flatten, MaxPooling2D\n",
    "import os\n",
    "import pandas as pd \n",
    "import numpy as np\n",
    "from IPython.display import display\n",
    "from keras.utils import to_categorical\n",
    "from keras.preprocessing.image import load_img\n",
    "import os"
   ]
  },
  {
   "cell_type": "code",
   "execution_count": 54,
   "id": "0bbb3641",
   "metadata": {},
   "outputs": [],
   "source": [
    "TRAIN_DIR = 'images/train'\n",
    "TEST_DIR = 'images/test'"
   ]
  },
  {
   "cell_type": "code",
   "execution_count": 55,
   "id": "427d600b",
   "metadata": {},
   "outputs": [],
   "source": [
    "def createdataframe(dir):\n",
    "    image_paths = []\n",
    "    labels = []\n",
    "    for label in os.listdir(dir):\n",
    "        for imagename in os.listdir(os.path.join(dir,label)):\n",
    "            image_paths.append(os.path.join(dir,label,imagename))\n",
    "            labels.append(label)\n",
    "        print(label, \"completed\")\n",
    "    return image_paths,labels    "
   ]
  },
  {
   "cell_type": "code",
   "execution_count": 56,
   "id": "b1a16f0b",
   "metadata": {},
   "outputs": [
    {
     "name": "stdout",
     "output_type": "stream",
     "text": [
      "angry completed\n",
      "disgust completed\n",
      "fear completed\n",
      "happy completed\n",
      "neutral completed\n",
      "sad completed\n",
      "surprise completed\n"
     ]
    }
   ],
   "source": [
    "train = pd.DataFrame()\n",
    "train['image'], train['label'] = createdataframe(TRAIN_DIR)"
   ]
  },
  {
   "cell_type": "code",
   "execution_count": 57,
   "id": "83da2eec",
   "metadata": {},
   "outputs": [
    {
     "name": "stdout",
     "output_type": "stream",
     "text": [
      "                                image     label\n",
      "0            images/train\\angry\\0.jpg     angry\n",
      "1            images/train\\angry\\1.jpg     angry\n",
      "2           images/train\\angry\\10.jpg     angry\n",
      "3        images/train\\angry\\10002.jpg     angry\n",
      "4        images/train\\angry\\10016.jpg     angry\n",
      "...                               ...       ...\n",
      "28816  images/train\\surprise\\9969.jpg  surprise\n",
      "28817  images/train\\surprise\\9985.jpg  surprise\n",
      "28818  images/train\\surprise\\9990.jpg  surprise\n",
      "28819  images/train\\surprise\\9992.jpg  surprise\n",
      "28820  images/train\\surprise\\9996.jpg  surprise\n",
      "\n",
      "[28821 rows x 2 columns]\n"
     ]
    }
   ],
   "source": [
    "print(train)"
   ]
  },
  {
   "cell_type": "code",
   "execution_count": 58,
   "id": "6c29a350",
   "metadata": {},
   "outputs": [
    {
     "name": "stdout",
     "output_type": "stream",
     "text": [
      "angry completed\n",
      "disgust completed\n",
      "fear completed\n",
      "happy completed\n",
      "neutral completed\n",
      "sad completed\n",
      "surprise completed\n"
     ]
    }
   ],
   "source": [
    "test = pd.DataFrame()\n",
    "test['image'], test['label'] = createdataframe(TEST_DIR)"
   ]
  },
  {
   "cell_type": "code",
   "execution_count": 59,
   "id": "3ead16a3",
   "metadata": {},
   "outputs": [
    {
     "name": "stdout",
     "output_type": "stream",
     "text": [
      "                              image     label\n",
      "0       images/test\\angry\\10052.jpg     angry\n",
      "1       images/test\\angry\\10065.jpg     angry\n",
      "2       images/test\\angry\\10079.jpg     angry\n",
      "3       images/test\\angry\\10095.jpg     angry\n",
      "4       images/test\\angry\\10121.jpg     angry\n",
      "...                             ...       ...\n",
      "7061  images/test\\surprise\\9806.jpg  surprise\n",
      "7062  images/test\\surprise\\9830.jpg  surprise\n",
      "7063  images/test\\surprise\\9853.jpg  surprise\n",
      "7064  images/test\\surprise\\9878.jpg  surprise\n",
      "7065   images/test\\surprise\\993.jpg  surprise\n",
      "\n",
      "[7066 rows x 2 columns]\n",
      "0         images/test\\angry\\10052.jpg\n",
      "1         images/test\\angry\\10065.jpg\n",
      "2         images/test\\angry\\10079.jpg\n",
      "3         images/test\\angry\\10095.jpg\n",
      "4         images/test\\angry\\10121.jpg\n",
      "                    ...              \n",
      "7061    images/test\\surprise\\9806.jpg\n",
      "7062    images/test\\surprise\\9830.jpg\n",
      "7063    images/test\\surprise\\9853.jpg\n",
      "7064    images/test\\surprise\\9878.jpg\n",
      "7065     images/test\\surprise\\993.jpg\n",
      "Name: image, Length: 7066, dtype: object\n"
     ]
    }
   ],
   "source": [
    "print(test)\n",
    "print(test['image'])"
   ]
  },
  {
   "cell_type": "code",
   "execution_count": 60,
   "id": "d47cd218",
   "metadata": {},
   "outputs": [
    {
     "name": "stdout",
     "output_type": "stream",
     "text": [
      "0              images/train\\angry\\0.jpg\n",
      "1              images/train\\angry\\1.jpg\n",
      "2             images/train\\angry\\10.jpg\n",
      "3          images/train\\angry\\10002.jpg\n",
      "4          images/train\\angry\\10016.jpg\n",
      "                      ...              \n",
      "28816    images/train\\surprise\\9969.jpg\n",
      "28817    images/train\\surprise\\9985.jpg\n",
      "28818    images/train\\surprise\\9990.jpg\n",
      "28819    images/train\\surprise\\9992.jpg\n",
      "28820    images/train\\surprise\\9996.jpg\n",
      "Name: image, Length: 28821, dtype: object\n"
     ]
    }
   ],
   "source": [
    "print(train['image'])"
   ]
  },
  {
   "cell_type": "code",
   "execution_count": 61,
   "id": "db84be09",
   "metadata": {},
   "outputs": [],
   "source": [
    "from tqdm.notebook import tqdm"
   ]
  },
  {
   "cell_type": "code",
   "execution_count": 62,
   "id": "af9a7e58",
   "metadata": {},
   "outputs": [],
   "source": [
    "def extract_features(images):\n",
    "    features = []\n",
    "    for image in tqdm(images):\n",
    "        img = load_img(image,color_mode = \"grayscale\" )\n",
    "        img = np.array(img)\n",
    "        features.append(img)\n",
    "    features = np.array(features)\n",
    "    features = features.reshape(len(features),48,48,1)\n",
    "    return features"
   ]
  },
  {
   "cell_type": "code",
   "execution_count": 63,
   "id": "6bc275e5",
   "metadata": {},
   "outputs": [
    {
     "data": {
      "application/vnd.jupyter.widget-view+json": {
       "model_id": "38c9d097b27c4ebe9626309b164d807e",
       "version_major": 2,
       "version_minor": 0
      },
      "text/plain": [
       "  0%|          | 0/28821 [00:00<?, ?it/s]"
      ]
     },
     "metadata": {},
     "output_type": "display_data"
    }
   ],
   "source": [
    "train_features = extract_features(train['image'])"
   ]
  },
  {
   "cell_type": "code",
   "execution_count": 64,
   "id": "23e950e4",
   "metadata": {},
   "outputs": [
    {
     "data": {
      "application/vnd.jupyter.widget-view+json": {
       "model_id": "571f908e5544492182e7a05deb42df84",
       "version_major": 2,
       "version_minor": 0
      },
      "text/plain": [
       "  0%|          | 0/7066 [00:00<?, ?it/s]"
      ]
     },
     "metadata": {},
     "output_type": "display_data"
    }
   ],
   "source": [
    "test_features = extract_features(test['image'])"
   ]
  },
  {
   "cell_type": "code",
   "execution_count": 65,
   "id": "caf4fc58",
   "metadata": {},
   "outputs": [],
   "source": [
    "x_train = train_features/255.0\n",
    "x_test = test_features/255.0"
   ]
  },
  {
   "cell_type": "code",
   "execution_count": 66,
   "id": "8b89cca8",
   "metadata": {},
   "outputs": [],
   "source": [
    "from sklearn.preprocessing import LabelEncoder"
   ]
  },
  {
   "cell_type": "code",
   "execution_count": 67,
   "id": "dc8a2cf2",
   "metadata": {},
   "outputs": [
    {
     "data": {
      "text/html": [
       "<style>#sk-container-id-2 {color: black;}#sk-container-id-2 pre{padding: 0;}#sk-container-id-2 div.sk-toggleable {background-color: white;}#sk-container-id-2 label.sk-toggleable__label {cursor: pointer;display: block;width: 100%;margin-bottom: 0;padding: 0.3em;box-sizing: border-box;text-align: center;}#sk-container-id-2 label.sk-toggleable__label-arrow:before {content: \"▸\";float: left;margin-right: 0.25em;color: #696969;}#sk-container-id-2 label.sk-toggleable__label-arrow:hover:before {color: black;}#sk-container-id-2 div.sk-estimator:hover label.sk-toggleable__label-arrow:before {color: black;}#sk-container-id-2 div.sk-toggleable__content {max-height: 0;max-width: 0;overflow: hidden;text-align: left;background-color: #f0f8ff;}#sk-container-id-2 div.sk-toggleable__content pre {margin: 0.2em;color: black;border-radius: 0.25em;background-color: #f0f8ff;}#sk-container-id-2 input.sk-toggleable__control:checked~div.sk-toggleable__content {max-height: 200px;max-width: 100%;overflow: auto;}#sk-container-id-2 input.sk-toggleable__control:checked~label.sk-toggleable__label-arrow:before {content: \"▾\";}#sk-container-id-2 div.sk-estimator input.sk-toggleable__control:checked~label.sk-toggleable__label {background-color: #d4ebff;}#sk-container-id-2 div.sk-label input.sk-toggleable__control:checked~label.sk-toggleable__label {background-color: #d4ebff;}#sk-container-id-2 input.sk-hidden--visually {border: 0;clip: rect(1px 1px 1px 1px);clip: rect(1px, 1px, 1px, 1px);height: 1px;margin: -1px;overflow: hidden;padding: 0;position: absolute;width: 1px;}#sk-container-id-2 div.sk-estimator {font-family: monospace;background-color: #f0f8ff;border: 1px dotted black;border-radius: 0.25em;box-sizing: border-box;margin-bottom: 0.5em;}#sk-container-id-2 div.sk-estimator:hover {background-color: #d4ebff;}#sk-container-id-2 div.sk-parallel-item::after {content: \"\";width: 100%;border-bottom: 1px solid gray;flex-grow: 1;}#sk-container-id-2 div.sk-label:hover label.sk-toggleable__label {background-color: #d4ebff;}#sk-container-id-2 div.sk-serial::before {content: \"\";position: absolute;border-left: 1px solid gray;box-sizing: border-box;top: 0;bottom: 0;left: 50%;z-index: 0;}#sk-container-id-2 div.sk-serial {display: flex;flex-direction: column;align-items: center;background-color: white;padding-right: 0.2em;padding-left: 0.2em;position: relative;}#sk-container-id-2 div.sk-item {position: relative;z-index: 1;}#sk-container-id-2 div.sk-parallel {display: flex;align-items: stretch;justify-content: center;background-color: white;position: relative;}#sk-container-id-2 div.sk-item::before, #sk-container-id-2 div.sk-parallel-item::before {content: \"\";position: absolute;border-left: 1px solid gray;box-sizing: border-box;top: 0;bottom: 0;left: 50%;z-index: -1;}#sk-container-id-2 div.sk-parallel-item {display: flex;flex-direction: column;z-index: 1;position: relative;background-color: white;}#sk-container-id-2 div.sk-parallel-item:first-child::after {align-self: flex-end;width: 50%;}#sk-container-id-2 div.sk-parallel-item:last-child::after {align-self: flex-start;width: 50%;}#sk-container-id-2 div.sk-parallel-item:only-child::after {width: 0;}#sk-container-id-2 div.sk-dashed-wrapped {border: 1px dashed gray;margin: 0 0.4em 0.5em 0.4em;box-sizing: border-box;padding-bottom: 0.4em;background-color: white;}#sk-container-id-2 div.sk-label label {font-family: monospace;font-weight: bold;display: inline-block;line-height: 1.2em;}#sk-container-id-2 div.sk-label-container {text-align: center;}#sk-container-id-2 div.sk-container {/* jupyter's `normalize.less` sets `[hidden] { display: none; }` but bootstrap.min.css set `[hidden] { display: none !important; }` so we also need the `!important` here to be able to override the default hidden behavior on the sphinx rendered scikit-learn.org. See: https://github.com/scikit-learn/scikit-learn/issues/21755 */display: inline-block !important;position: relative;}#sk-container-id-2 div.sk-text-repr-fallback {display: none;}</style><div id=\"sk-container-id-2\" class=\"sk-top-container\"><div class=\"sk-text-repr-fallback\"><pre>LabelEncoder()</pre><b>In a Jupyter environment, please rerun this cell to show the HTML representation or trust the notebook. <br />On GitHub, the HTML representation is unable to render, please try loading this page with nbviewer.org.</b></div><div class=\"sk-container\" hidden><div class=\"sk-item\"><div class=\"sk-estimator sk-toggleable\"><input class=\"sk-toggleable__control sk-hidden--visually\" id=\"sk-estimator-id-2\" type=\"checkbox\" checked><label for=\"sk-estimator-id-2\" class=\"sk-toggleable__label sk-toggleable__label-arrow\">LabelEncoder</label><div class=\"sk-toggleable__content\"><pre>LabelEncoder()</pre></div></div></div></div></div>"
      ],
      "text/plain": [
       "LabelEncoder()"
      ]
     },
     "execution_count": 67,
     "metadata": {},
     "output_type": "execute_result"
    }
   ],
   "source": [
    "le = LabelEncoder()\n",
    "le.fit(train['label'])"
   ]
  },
  {
   "cell_type": "code",
   "execution_count": 68,
   "id": "110282ed",
   "metadata": {},
   "outputs": [],
   "source": [
    "y_train = le.transform(train['label'])\n",
    "y_test = le.transform(test['label'])"
   ]
  },
  {
   "cell_type": "code",
   "execution_count": 69,
   "id": "9e89b85a",
   "metadata": {},
   "outputs": [],
   "source": [
    "y_train = to_categorical(y_train,num_classes = 7)\n",
    "y_test = to_categorical(y_test,num_classes = 7)"
   ]
  },
  {
   "cell_type": "code",
   "execution_count": 18,
   "id": "feff035d",
   "metadata": {},
   "outputs": [],
   "source": [
    "model = Sequential()\n",
    "# convolutional layers\n",
    "model.add(Conv2D(128, kernel_size=(3,3), activation='relu' , input_shape=(48,48,1)))\n",
    "model.add(MaxPooling2D(pool_size=(2,2)))\n",
    "model.add(Dropout(0.4))\n",
    "\n",
    "model.add(Conv2D(256, kernel_size=(3,3), activation='relu'))\n",
    "model.add(MaxPooling2D(pool_size=(2,2)))\n",
    "model.add(Dropout(0.4))\n",
    "\n",
    "model.add(Conv2D(512, kernel_size=(3,3), activation='relu' ))\n",
    "model.add(MaxPooling2D(pool_size=(2,2)))\n",
    "model.add(Dropout(0.4))\n",
    "\n",
    "model.add(Conv2D(512, kernel_size=(3,3), activation='relu' ))\n",
    "model.add(MaxPooling2D(pool_size=(2,2)))\n",
    "model.add(Dropout(0.4))\n",
    "\n",
    "model.add(Flatten())\n",
    "\n",
    "#fully connected layers\n",
    "model.add(Dense(512, activation='relu'))\n",
    "model.add(Dropout(0.4))\n",
    "model.add(Dense(256, activation='relu'))\n",
    "model.add(Dropout(0.3))\n",
    "\n",
    "#output layer\n",
    "model.add(Dense(7,activation='softmax'))\n"
   ]
  },
  {
   "cell_type": "code",
   "execution_count": 20,
   "id": "7f41ee4a",
   "metadata": {},
   "outputs": [],
   "source": [
    "from keras.callbacks import EarlyStopping, ReduceLROnPlateau\n",
    "model.compile(optimizer = 'adam', loss = 'categorical_crossentropy', metrics = 'accuracy')\n",
    "# Define callbacks for early stopping and learning rate reduction\n",
    "early_stopping = EarlyStopping(monitor='val_loss', patience=10, restore_best_weights=True)\n",
    "reduce_lr = ReduceLROnPlateau(monitor='val_loss', factor=0.2, patience=5, min_lr=0.0001)"
   ]
  },
  {
   "cell_type": "code",
   "execution_count": 21,
   "id": "3f926bf4",
   "metadata": {
    "scrolled": true
   },
   "outputs": [
    {
     "name": "stdout",
     "output_type": "stream",
     "text": [
      "Epoch 1/20\n",
      "451/451 [==============================] - 411s 903ms/step - loss: 1.8202 - accuracy: 0.2459 - val_loss: 1.7897 - val_accuracy: 0.2574 - lr: 0.0010\n",
      "Epoch 2/20\n",
      "451/451 [==============================] - 411s 912ms/step - loss: 1.7846 - accuracy: 0.2572 - val_loss: 1.7207 - val_accuracy: 0.2973 - lr: 0.0010\n",
      "Epoch 3/20\n",
      "451/451 [==============================] - 406s 900ms/step - loss: 1.6867 - accuracy: 0.3132 - val_loss: 1.5534 - val_accuracy: 0.3852 - lr: 0.0010\n",
      "Epoch 4/20\n",
      "451/451 [==============================] - 407s 902ms/step - loss: 1.5799 - accuracy: 0.3783 - val_loss: 1.4570 - val_accuracy: 0.4372 - lr: 0.0010\n",
      "Epoch 5/20\n",
      "451/451 [==============================] - 403s 893ms/step - loss: 1.5035 - accuracy: 0.4157 - val_loss: 1.3823 - val_accuracy: 0.4523 - lr: 0.0010\n",
      "Epoch 6/20\n",
      "451/451 [==============================] - 401s 889ms/step - loss: 1.4567 - accuracy: 0.4331 - val_loss: 1.3281 - val_accuracy: 0.4849 - lr: 0.0010\n",
      "Epoch 7/20\n",
      "451/451 [==============================] - 397s 881ms/step - loss: 1.4275 - accuracy: 0.4459 - val_loss: 1.2947 - val_accuracy: 0.5024 - lr: 0.0010\n",
      "Epoch 8/20\n",
      "451/451 [==============================] - 393s 871ms/step - loss: 1.3961 - accuracy: 0.4606 - val_loss: 1.2583 - val_accuracy: 0.5200 - lr: 0.0010\n",
      "Epoch 9/20\n",
      "451/451 [==============================] - 411s 912ms/step - loss: 1.3731 - accuracy: 0.4733 - val_loss: 1.2494 - val_accuracy: 0.5132 - lr: 0.0010\n",
      "Epoch 10/20\n",
      "451/451 [==============================] - 412s 913ms/step - loss: 1.3569 - accuracy: 0.4759 - val_loss: 1.2402 - val_accuracy: 0.5273 - lr: 0.0010\n",
      "Epoch 11/20\n",
      "451/451 [==============================] - 406s 900ms/step - loss: 1.3420 - accuracy: 0.4863 - val_loss: 1.2413 - val_accuracy: 0.5280 - lr: 0.0010\n",
      "Epoch 12/20\n",
      "451/451 [==============================] - 404s 897ms/step - loss: 1.3255 - accuracy: 0.4927 - val_loss: 1.1978 - val_accuracy: 0.5425 - lr: 0.0010\n",
      "Epoch 13/20\n",
      "451/451 [==============================] - 405s 898ms/step - loss: 1.3035 - accuracy: 0.4996 - val_loss: 1.2142 - val_accuracy: 0.5331 - lr: 0.0010\n",
      "Epoch 14/20\n",
      "451/451 [==============================] - 403s 893ms/step - loss: 1.3000 - accuracy: 0.5029 - val_loss: 1.1865 - val_accuracy: 0.5494 - lr: 0.0010\n",
      "Epoch 15/20\n",
      "451/451 [==============================] - 402s 892ms/step - loss: 1.2894 - accuracy: 0.5071 - val_loss: 1.1765 - val_accuracy: 0.5502 - lr: 0.0010\n",
      "Epoch 16/20\n",
      "451/451 [==============================] - 404s 895ms/step - loss: 1.2745 - accuracy: 0.5127 - val_loss: 1.1720 - val_accuracy: 0.5491 - lr: 0.0010\n",
      "Epoch 17/20\n",
      "451/451 [==============================] - 407s 902ms/step - loss: 1.2694 - accuracy: 0.5182 - val_loss: 1.1829 - val_accuracy: 0.5548 - lr: 0.0010\n",
      "Epoch 18/20\n",
      "451/451 [==============================] - 389s 863ms/step - loss: 1.2573 - accuracy: 0.5208 - val_loss: 1.1695 - val_accuracy: 0.5594 - lr: 0.0010\n",
      "Epoch 19/20\n",
      "451/451 [==============================] - 457s 1s/step - loss: 1.2507 - accuracy: 0.5234 - val_loss: 1.1533 - val_accuracy: 0.5668 - lr: 0.0010\n",
      "Epoch 20/20\n",
      "451/451 [==============================] - 456s 1s/step - loss: 1.2386 - accuracy: 0.5284 - val_loss: 1.1501 - val_accuracy: 0.5623 - lr: 0.0010\n"
     ]
    },
    {
     "data": {
      "text/plain": [
       "<keras.src.callbacks.History at 0x1b8fe8bc550>"
      ]
     },
     "execution_count": 21,
     "metadata": {},
     "output_type": "execute_result"
    }
   ],
   "source": [
    "model.fit(x=x_train,y=y_train, batch_size = 64, epochs = 20, validation_data = (x_test,y_test), callbacks=[early_stopping, reduce_lr])"
   ]
  },
  {
   "cell_type": "code",
   "execution_count": 71,
   "id": "65c404b8",
   "metadata": {},
   "outputs": [
    {
     "name": "stdout",
     "output_type": "stream",
     "text": [
      "Epoch 1/150\n",
      "361/361 [==============================] - 169s 457ms/step - loss: 2.0588 - accuracy: 0.3416 - val_loss: 2.6741 - val_accuracy: 0.1754 - lr: 0.0010\n",
      "Epoch 2/150\n",
      "361/361 [==============================] - 161s 446ms/step - loss: 1.4890 - accuracy: 0.4516 - val_loss: 1.7481 - val_accuracy: 0.3480 - lr: 0.0010\n",
      "Epoch 3/150\n",
      "361/361 [==============================] - 170s 470ms/step - loss: 1.3087 - accuracy: 0.5098 - val_loss: 1.2902 - val_accuracy: 0.5119 - lr: 0.0010\n",
      "Epoch 4/150\n",
      "361/361 [==============================] - 181s 501ms/step - loss: 1.2248 - accuracy: 0.5370 - val_loss: 1.2961 - val_accuracy: 0.4956 - lr: 0.0010\n",
      "Epoch 5/150\n",
      "361/361 [==============================] - 177s 490ms/step - loss: 1.1676 - accuracy: 0.5635 - val_loss: 1.3384 - val_accuracy: 0.5115 - lr: 0.0010\n",
      "Epoch 6/150\n",
      "361/361 [==============================] - 175s 485ms/step - loss: 1.1075 - accuracy: 0.5823 - val_loss: 1.2386 - val_accuracy: 0.5414 - lr: 0.0010\n",
      "Epoch 7/150\n",
      "361/361 [==============================] - 175s 485ms/step - loss: 1.0704 - accuracy: 0.5972 - val_loss: 1.6560 - val_accuracy: 0.4814 - lr: 0.0010\n",
      "Epoch 8/150\n",
      "361/361 [==============================] - 174s 482ms/step - loss: 1.0233 - accuracy: 0.6154 - val_loss: 1.2605 - val_accuracy: 0.5266 - lr: 0.0010\n",
      "Epoch 9/150\n",
      "361/361 [==============================] - 176s 488ms/step - loss: 0.9724 - accuracy: 0.6330 - val_loss: 1.1352 - val_accuracy: 0.5835 - lr: 0.0010\n",
      "Epoch 10/150\n",
      "361/361 [==============================] - 188s 521ms/step - loss: 0.9247 - accuracy: 0.6530 - val_loss: 1.1707 - val_accuracy: 0.5738 - lr: 0.0010\n",
      "Epoch 11/150\n",
      "361/361 [==============================] - 177s 490ms/step - loss: 0.8819 - accuracy: 0.6696 - val_loss: 1.3034 - val_accuracy: 0.5438 - lr: 0.0010\n",
      "Epoch 12/150\n",
      "361/361 [==============================] - 173s 480ms/step - loss: 0.8432 - accuracy: 0.6825 - val_loss: 1.1849 - val_accuracy: 0.5639 - lr: 0.0010\n",
      "Epoch 13/150\n",
      "361/361 [==============================] - 157s 434ms/step - loss: 0.7876 - accuracy: 0.7042 - val_loss: 2.2559 - val_accuracy: 0.4581 - lr: 0.0010\n",
      "Epoch 14/150\n",
      "361/361 [==============================] - 150s 415ms/step - loss: 0.7226 - accuracy: 0.7345 - val_loss: 1.1823 - val_accuracy: 0.5971 - lr: 0.0010\n",
      "Epoch 15/150\n",
      "361/361 [==============================] - 152s 422ms/step - loss: 0.5924 - accuracy: 0.7842 - val_loss: 1.1129 - val_accuracy: 0.6194 - lr: 2.0000e-04\n",
      "Epoch 16/150\n",
      "361/361 [==============================] - 160s 444ms/step - loss: 0.5330 - accuracy: 0.8039 - val_loss: 1.1326 - val_accuracy: 0.6173 - lr: 2.0000e-04\n",
      "Epoch 17/150\n",
      "361/361 [==============================] - 162s 449ms/step - loss: 0.4884 - accuracy: 0.8214 - val_loss: 1.1320 - val_accuracy: 0.6257 - lr: 2.0000e-04\n",
      "Epoch 18/150\n",
      "361/361 [==============================] - 177s 489ms/step - loss: 0.4590 - accuracy: 0.8344 - val_loss: 1.1538 - val_accuracy: 0.6193 - lr: 2.0000e-04\n",
      "Epoch 19/150\n",
      "361/361 [==============================] - 182s 504ms/step - loss: 0.4283 - accuracy: 0.8438 - val_loss: 1.1808 - val_accuracy: 0.6193 - lr: 2.0000e-04\n",
      "Epoch 20/150\n",
      "361/361 [==============================] - 169s 469ms/step - loss: 0.4038 - accuracy: 0.8571 - val_loss: 1.1880 - val_accuracy: 0.6241 - lr: 2.0000e-04\n",
      "Epoch 21/150\n",
      "361/361 [==============================] - 182s 505ms/step - loss: 0.3666 - accuracy: 0.8698 - val_loss: 1.1903 - val_accuracy: 0.6219 - lr: 1.0000e-04\n",
      "Epoch 22/150\n",
      "361/361 [==============================] - 169s 468ms/step - loss: 0.3567 - accuracy: 0.8703 - val_loss: 1.2060 - val_accuracy: 0.6225 - lr: 1.0000e-04\n",
      "Epoch 23/150\n",
      "361/361 [==============================] - 173s 480ms/step - loss: 0.3430 - accuracy: 0.8759 - val_loss: 1.2198 - val_accuracy: 0.6210 - lr: 1.0000e-04\n",
      "Epoch 24/150\n",
      "361/361 [==============================] - 177s 491ms/step - loss: 0.3271 - accuracy: 0.8830 - val_loss: 1.2327 - val_accuracy: 0.6234 - lr: 1.0000e-04\n",
      "Epoch 25/150\n",
      "361/361 [==============================] - 172s 476ms/step - loss: 0.3207 - accuracy: 0.8845 - val_loss: 1.2438 - val_accuracy: 0.6224 - lr: 1.0000e-04\n"
     ]
    }
   ],
   "source": [
    "\n",
    "import zipfile\n",
    "import os\n",
    "from keras.utils import to_categorical\n",
    "from keras.preprocessing.image import load_img\n",
    "from keras.models import Sequential\n",
    "from keras.layers import Dense, Conv2D, Dropout, Flatten, MaxPooling2D, BatchNormalization\n",
    "from keras.callbacks import EarlyStopping, ReduceLROnPlateau\n",
    "import pandas as pd\n",
    "import numpy as np\n",
    "from IPython.display import display\n",
    "from tqdm.notebook import tqdm\n",
    "from sklearn.preprocessing import LabelEncoder\n",
    "import matplotlib.pyplot as plt\n",
    "import seaborn as sns\n",
    "from sklearn.metrics import confusion_matrix\n",
    "from sklearn.model_selection import train_test_split\n",
    "\n",
    "\n",
    "model = Sequential()\n",
    "model.add(Conv2D(32, kernel_size=(3, 3), activation='relu', input_shape=(48, 48, 1)))\n",
    "model.add(BatchNormalization())\n",
    "model.add(Conv2D(64, kernel_size=(3, 3), activation='relu'))\n",
    "model.add(BatchNormalization())\n",
    "model.add(MaxPooling2D(pool_size=(2, 2)))\n",
    "model.add(Dropout(0.25))\n",
    "\n",
    "model.add(Conv2D(128, kernel_size=(3, 3), activation='relu'))\n",
    "model.add(BatchNormalization())\n",
    "model.add(MaxPooling2D(pool_size=(2, 2)))\n",
    "model.add(Conv2D(128, kernel_size=(3, 3), activation='relu'))\n",
    "model.add(BatchNormalization())\n",
    "model.add(MaxPooling2D(pool_size=(2, 2)))\n",
    "model.add(Dropout(0.25))\n",
    "\n",
    "model.add(Flatten())\n",
    "model.add(Dense(1024, activation='relu'))\n",
    "model.add(BatchNormalization())\n",
    "model.add(Dropout(0.5))\n",
    "model.add(Dense(7, activation='softmax'))\n",
    "\n",
    "# Compile the model\n",
    "model.compile(optimizer='adam', loss='categorical_crossentropy', metrics=['accuracy'])\n",
    "\n",
    "# Define callbacks for early stopping and learning rate reduction\n",
    "early_stopping = EarlyStopping(monitor='val_loss', patience=10, restore_best_weights=True)\n",
    "reduce_lr = ReduceLROnPlateau(monitor='val_loss', factor=0.2, patience=5, min_lr=0.0001)\n",
    "\n",
    "\n",
    "# Split the training data into training and validation sets\n",
    "x_train, x_val, y_train, y_val = train_test_split(x_train, y_train, test_size=0.2, random_state=42)\n",
    "\n",
    "# Train the model\n",
    "history = model.fit(x=x_train, y=y_train, batch_size=64, epochs=150, validation_data=(x_val, y_val),\n",
    "                    callbacks=[early_stopping, reduce_lr])\n",
    "\n",
    "\n",
    "\n",
    "# ... (rest of your existing code for evaluation and confusion matrix) ..."
   ]
  },
  {
   "cell_type": "code",
   "execution_count": 72,
   "id": "c9abd132",
   "metadata": {},
   "outputs": [
    {
     "name": "stdout",
     "output_type": "stream",
     "text": [
      "221/221 [==============================] - 13s 57ms/step\n"
     ]
    },
    {
     "data": {
      "image/png": "[encoded data removed]",
      "text/plain": [
       "<Figure size 800x600 with 2 Axes>"
      ]
     },
     "metadata": {},
     "output_type": "display_data"
    }
   ],
   "source": [
    "import matplotlib.pyplot as plt\n",
    "import seaborn as sns\n",
    "from sklearn.metrics import confusion_matrix\n",
    "\n",
    "# Assuming 'model' and 'x_test', 'y_test' are defined from the previous code\n",
    "y_pred = model.predict(x_test)\n",
    "y_pred_classes = np.argmax(y_pred, axis=1)\n",
    "y_true = np.argmax(y_test, axis=1)\n",
    "\n",
    "conf_mat = confusion_matrix(y_true, y_pred_classes)\n",
    "\n",
    "plt.figure(figsize=(8, 6))\n",
    "sns.heatmap(conf_mat, annot=True, fmt='d', cmap='Blues')\n",
    "plt.xlabel('Predicted Labels')\n",
    "plt.ylabel('True Labels')\n",
    "plt.title('Confusion Matrix')\n",
    "plt.show()"
   ]
  },
  {
   "cell_type": "code",
   "execution_count": 73,
   "id": "c5dc87da",
   "metadata": {},
   "outputs": [
    {
     "name": "stdout",
     "output_type": "stream",
     "text": [
      "Accuracy: 0.6321822813472969\n",
      "F1 Score: 0.6325832254759323\n",
      "Precision: 0.6382360517015377\n",
      "Recall: 0.6321822813472969\n"
     ]
    }
   ],
   "source": [
    "\n",
    "\n",
    "from sklearn.metrics import accuracy_score, f1_score, precision_score, recall_score\n",
    "import numpy as np\n",
    "\n",
    "\n",
    "\n",
    "accuracy = accuracy_score(y_true, y_pred_classes)\n",
    "f1 = f1_score(y_true, y_pred_classes, average='weighted') # Use weighted average for multiclass\n",
    "precision = precision_score(y_true, y_pred_classes, average='weighted')\n",
    "recall = recall_score(y_true, y_pred_classes, average='weighted')\n",
    "\n",
    "print(f\"Accuracy: {accuracy}\")\n",
    "print(f\"F1 Score: {f1}\")\n",
    "print(f\"Precision: {precision}\")\n",
    "print(f\"Recall: {recall}\")"
   ]
  },
  {
   "cell_type": "code",
   "execution_count": 74,
   "id": "f08fa1bf",
   "metadata": {},
   "outputs": [],
   "source": [
    "model_json = model.to_json()\n",
    "with open(\"emotiondetector.json\", \"w\") as json_file:\n",
    "    json_file.write(model_json)\n",
    "model.save(\"emotiondetector.keras\")    "
   ]
  },
  {
   "cell_type": "code",
   "execution_count": 75,
   "id": "7f151333",
   "metadata": {},
   "outputs": [],
   "source": [
    "from keras.models import model_from_json"
   ]
  },
  {
   "cell_type": "code",
   "execution_count": 76,
   "id": "cb17819e",
   "metadata": {},
   "outputs": [],
   "source": [
    "json_file = open(\"emotiondetector.json\", \"r\")\n",
    "model_json = json_file.read()\n",
    "json_file.close()\n",
    "model = model_from_json(model_json)\n",
    "model.load_weights(\"emotiondetector.keras\")"
   ]
  },
  {
   "cell_type": "code",
   "execution_count": 77,
   "id": "5fc3e439",
   "metadata": {},
   "outputs": [],
   "source": [
    "label = ['angry','disgust','fear','happy','neutral','sad','surprise']"
   ]
  },
  {
   "cell_type": "code",
   "execution_count": 78,
   "id": "f2cab596",
   "metadata": {},
   "outputs": [],
   "source": [
    "def ef(image):\n",
    "    img = load_img(image,color_mode=\"grayscale\" )\n",
    "    feature = np.array(img)\n",
    "    feature = feature.reshape(1,48,48,1)\n",
    "    return feature/255.0"
   ]
  },
  {
   "cell_type": "code",
   "execution_count": 79,
   "id": "bcd3127c",
   "metadata": {},
   "outputs": [
    {
     "name": "stdout",
     "output_type": "stream",
     "text": [
      "original image is of sad\n",
      "1/1 [==============================] - 0s 390ms/step\n",
      "model prediction is  sad\n"
     ]
    }
   ],
   "source": [
    "images = 'images/train/sad/89.jpg'\n",
    "print(\"original image is of sad\")\n",
    "img = ef(images)\n",
    "pred = model.predict(img)\n",
    "pred_label = label[pred.argmax()]\n",
    "print (\"model prediction is \", pred_label)"
   ]
  },
  {
   "cell_type": "code",
   "execution_count": 80,
   "id": "1bad7501",
   "metadata": {},
   "outputs": [],
   "source": [
    "import matplotlib.pyplot as plt\n",
    "%matplotlib inline"
   ]
  },
  {
   "cell_type": "code",
   "execution_count": 81,
   "id": "e3673064",
   "metadata": {},
   "outputs": [
    {
     "name": "stdout",
     "output_type": "stream",
     "text": [
      "original image is of angry\n",
      "1/1 [==============================] - 0s 67ms/step\n",
      "model prediction is  angry\n"
     ]
    },
    {
     "data": {
      "text/plain": [
       "<matplotlib.image.AxesImage at 0x1b885f6d7d0>"
      ]
     },
     "execution_count": 81,
     "metadata": {},
     "output_type": "execute_result"
    },
    {
     "data": {
      "image/png": "[encoded data removed]",
      "text/plain": [
       "<Figure size 640x480 with 1 Axes>"
      ]
     },
     "metadata": {},
     "output_type": "display_data"
    }
   ],
   "source": [
    "image = 'images/train/angry/22.jpg'\n",
    "print(\"original image is of angry\")\n",
    "img = ef(image)\n",
    "pred = model.predict(img)\n",
    "pred_label = label[pred.argmax()]\n",
    "print (\"model prediction is \", pred_label)\n",
    "plt.imshow(img.reshape(48,48),cmap='gray')"
   ]
  },
  {
   "cell_type": "code",
   "execution_count": 82,
   "id": "641c6d68",
   "metadata": {},
   "outputs": [],
   "source": [
    "import cv2"
   ]
  },
  {
   "cell_type": "code",
   "execution_count": null,
   "id": "909cf824",
   "metadata": {},
   "outputs": [],
   "source": []
  }
 ],
 "metadata": {
  "kernelspec": {
   "display_name": "Python 3 (ipykernel)",
   "language": "python",
   "name": "python3"
  },
  "language_info": {
   "codemirror_mode": {
    "name": "ipython",
    "version": 3
   },
   "file_extension": ".py",
   "mimetype": "text/x-python",
   "name": "python",
   "nbconvert_exporter": "python",
   "pygments_lexer": "ipython3",
   "version": "3.11.2"
  }
 },
 "nbformat": 4,
 "nbformat_minor": 5
}
